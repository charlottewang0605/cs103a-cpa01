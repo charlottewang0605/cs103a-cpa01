{
 "cells": [
  {
   "cell_type": "markdown",
   "metadata": {},
   "source": [
    "# a.\n",
    "\n",
    "* The dataset is the daily COVID-19 test across countries on a rolling 7-day average basis from Mar 3rd, 2020 to Mar 7th, 2022.\n",
    "\n",
    "* The dataset includes 84720 rows and the dataset is grouped by entity and country code.\n",
    "* URL:https://ourworldindata.org/search?q=covid+\n",
    "* Two interesting question: \n",
    "* How many covid-19 tests in total are performed by each country?\n",
    "* How many covid-19 tests in total are performed in each day?\n"
   ]
  },
  {
   "cell_type": "code",
   "execution_count": null,
   "metadata": {},
   "outputs": [],
   "source": [
    "import csv\n",
    "import matplotlib.pyplot as plt\n",
    "import numpy as np\n",
    "import pandas as pd"
   ]
  },
  {
   "cell_type": "markdown",
   "metadata": {},
   "source": [
    "## b.  load the data  into a pandas dataframe"
   ]
  },
  {
   "cell_type": "code",
   "execution_count": null,
   "metadata": {},
   "outputs": [],
   "source": [
    "df=pd.read_csv('covidstat.csv')\n",
    "df"
   ]
  },
  {
   "cell_type": "markdown",
   "metadata": {},
   "source": [
    "## c. use pd.describe() to get a rough overview of the data"
   ]
  },
  {
   "cell_type": "code",
   "execution_count": null,
   "metadata": {},
   "outputs": [],
   "source": [
    "df.describe()"
   ]
  },
  {
   "cell_type": "markdown",
   "metadata": {},
   "source": [
    "## d."
   ]
  },
  {
   "cell_type": "markdown",
   "metadata": {},
   "source": [
    "## print the array of columns and the index array"
   ]
  },
  {
   "cell_type": "code",
   "execution_count": null,
   "metadata": {},
   "outputs": [],
   "source": [
    "print(df.columns)\n",
    "print(df.index)\n",
    "print(list(df.columns))"
   ]
  },
  {
   "cell_type": "markdown",
   "metadata": {},
   "source": [
    "## create some simple plot of part of the data"
   ]
  },
  {
   "cell_type": "code",
   "execution_count": null,
   "metadata": {},
   "outputs": [],
   "source": [
    "dates=df['Day'].unique()"
   ]
  },
  {
   "cell_type": "code",
   "execution_count": null,
   "metadata": {},
   "outputs": [],
   "source": [
    "dfUSA = df[df['Code']=='USA'] \n",
    "dfRUS = df[df['Code']=='RUS']  \n",
    "dfCAN = df[df['Code']=='CAN'] "
   ]
  },
  {
   "cell_type": "code",
   "execution_count": null,
   "metadata": {},
   "outputs": [],
   "source": [
    "plt.figure(figsize=(15,10))\n",
    "plt.plot(dates[-50:],dfUSA['new_tests_7day_smoothed'][-50:],label=\"United States\")\n",
    "plt.plot(dates[-50:],dfRUS['new_tests_7day_smoothed'][-50:],label=\"Russia\")\n",
    "plt.plot(dates[-50:],dfCAN['new_tests_7day_smoothed'][-50:],label=\"Canada\")\n",
    "plt.legend()\n",
    "plt.xlabel('Dates')\n",
    "plt.ylabel('')\n",
    "plt.title('Test data of recent 50 days from United States, Russia and Canada')"
   ]
  },
  {
   "cell_type": "markdown",
   "metadata": {},
   "source": [
    "## create a pivot table and plot some data from that pivot table"
   ]
  },
  {
   "cell_type": "code",
   "execution_count": null,
   "metadata": {},
   "outputs": [],
   "source": [
    "dfpt=pd.pivot_table(df,values=\"new_tests_7day_smoothed\",index=\"Day\",columns=\"Entity\")\n",
    "dfpt"
   ]
  },
  {
   "cell_type": "code",
   "execution_count": null,
   "metadata": {},
   "outputs": [],
   "source": [
    "dfpt.plot(figsize=(15,10))\n",
    "plt.grid()\n",
    "plt.title(\"Global Test Data in each country\")\n",
    "plt.xlabel(\"Date\")\n",
    "plt.ylabel(\"Tests Number\")"
   ]
  },
  {
   "cell_type": "markdown",
   "metadata": {},
   "source": [
    "## use the groupby feature"
   ]
  },
  {
   "cell_type": "code",
   "execution_count": null,
   "metadata": {},
   "outputs": [],
   "source": [
    "sum_test_per_country=df.groupby([\"Entity\"]).sum()\n",
    "sorted_country=sum_test_per_country.sort_values(['new_tests_7day_smoothed'],ascending=False)\n",
    "sorted_country"
   ]
  },
  {
   "cell_type": "code",
   "execution_count": null,
   "metadata": {},
   "outputs": [],
   "source": [
    "sum_test_per_day=df.groupby([\"Day\"]).sum()\n",
    "sorted_day=sum_test_per_day.sort_values(['new_tests_7day_smoothed'],ascending=False)\n",
    "sorted_day"
   ]
  },
  {
   "cell_type": "markdown",
   "metadata": {},
   "source": [
    "# discussion \n",
    "\n",
    "### The answer to my two questions at the beginning \n",
    "* How many covid-19 tests in total are performed by each country?\n",
    "* How many covid-19 tests in total are performed in each day?\n",
    "### were listed above in the groupby session\n",
    "### We also have United States performing the most tests and 2022-01-23 recording the most test worldwide\n",
    "\n",
    "\n",
    "* The plot and the pivot table tell us each country's ability to perform test might vary according to their population, GDP...\n",
    "* Each country also might have different peak period for COVID\n"
   ]
  }
 ],
 "metadata": {
  "kernelspec": {
   "display_name": "Python 3 (ipykernel)",
   "language": "python",
   "name": "python3"
  },
  "language_info": {
   "codemirror_mode": {
    "name": "ipython",
    "version": 3
   },
   "file_extension": ".py",
   "mimetype": "text/x-python",
   "name": "python",
   "nbconvert_exporter": "python",
   "pygments_lexer": "ipython3",
   "version": "3.8.8"
  }
 },
 "nbformat": 4,
 "nbformat_minor": 4
}
